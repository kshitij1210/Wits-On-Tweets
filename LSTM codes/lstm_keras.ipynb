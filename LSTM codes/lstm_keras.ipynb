{
 "cells": [
  {
   "cell_type": "code",
   "execution_count": null,
   "metadata": {
    "collapsed": true
   },
   "outputs": [],
   "source": [
    "#author:WitsonTweets\n",
    "#This Module is a LSTM Neural Network to solve the classification Problem "
   ]
  },
  {
   "cell_type": "code",
   "execution_count": 1,
   "metadata": {},
   "outputs": [
    {
     "name": "stderr",
     "output_type": "stream",
     "text": [
      "Using TensorFlow backend.\n"
     ]
    }
   ],
   "source": [
    "import json\n",
    "import keras\n",
    "import keras.preprocessing.text as kpt\n",
    "from keras.preprocessing.text import Tokenizer\n",
    "from keras.models import Sequential\n",
    "from keras.layers import Dense, Embedding, LSTM\n",
    "from keras.utils import plot_model\n",
    "from nltk.corpus import stopwords\n",
    "from nltk.tokenize import word_tokenize\n",
    "import numpy as np\n",
    "import pandas as pd\n",
    "import re"
   ]
  },
  {
   "cell_type": "code",
   "execution_count": 2,
   "metadata": {
    "collapsed": true
   },
   "outputs": [],
   "source": [
    "from keras.preprocessing.sequence import pad_sequences\n",
    "training =pd.read_csv('2lakh1.csv',usecols=(0,1),encoding=\"latin-1\")\n",
    "stop = set(stopwords.words('english'))\n",
    "train_x=training.iloc[:,1].astype(str)\n",
    "train_y=training.iloc[:,0]\n",
    "\n",
    "# maximum number of words used for training the dataset\n",
    "max_words = 3000\n",
    "\n",
    "#Create a tokenizer using Keras and input the tweets\n",
    "tokenizer = Tokenizer(num_words=max_words)\n",
    "tokenizer.fit_on_texts(train_x)\n",
    "\n",
    "dictionary = tokenizer.word_index\n",
    "\n",
    "#Saving the dictionary to a json file so we can use it for processing Tweets while testing the model\n",
    "\n",
    "with open('dictionarylstm.json', 'w') as dictionary_file:\n",
    "    json.dump(dictionary, dictionary_file)\n",
    "    \n",
    "    \n",
    "train_x = tokenizer.texts_to_sequences(train_x)\n",
    "train_x = pad_sequences(train_x)\n",
    "#print(train_x[0:5])\n",
    "\n",
    "train_y = keras.utils.to_categorical(train_y, 2)\n",
    "\n",
    "\n"
   ]
  },
  {
   "cell_type": "code",
   "execution_count": 3,
   "metadata": {},
   "outputs": [
    {
     "name": "stdout",
     "output_type": "stream",
     "text": [
      "25\n"
     ]
    }
   ],
   "source": [
    "print(len(train_x[0]))"
   ]
  },
  {
   "cell_type": "code",
   "execution_count": 4,
   "metadata": {},
   "outputs": [
    {
     "name": "stdout",
     "output_type": "stream",
     "text": [
      "_________________________________________________________________\n",
      "Layer (type)                 Output Shape              Param #   \n",
      "=================================================================\n",
      "embedding_1 (Embedding)      (None, 25, 128)           384000    \n",
      "_________________________________________________________________\n",
      "lstm_1 (LSTM)                (None, 196)               254800    \n",
      "_________________________________________________________________\n",
      "dense_1 (Dense)              (None, 2)                 394       \n",
      "=================================================================\n",
      "Total params: 639,194\n",
      "Trainable params: 639,194\n",
      "Non-trainable params: 0\n",
      "_________________________________________________________________\n",
      "None\n"
     ]
    }
   ],
   "source": [
    "embedding_size=128\n",
    "lstm_out=196\n",
    "\n",
    "from keras.callbacks import EarlyStopping\n",
    "\n",
    "model=Sequential()\n",
    "model.add(Embedding(max_words,embedding_size,input_length=len(train_x[0])))\n",
    "model.add(LSTM(lstm_out,recurrent_dropout=0.5,dropout=0.5))\n",
    "model.add(Dense(2,activation='softmax'))\n",
    "model.compile(loss='categorical_crossentropy',\n",
    "    optimizer='adam',\n",
    "    metrics=['accuracy'])\n",
    "early_stopping=EarlyStopping(monitor='val_acc',mode='max')\n",
    "print(model.summary())\n",
    "#plot_model(model,to_file=\"lstmmodel.png\",show_shapes=True,show_layer_names=True)\n",
    "\n"
   ]
  },
  {
   "cell_type": "code",
   "execution_count": 5,
   "metadata": {
    "scrolled": true
   },
   "outputs": [
    {
     "name": "stdout",
     "output_type": "stream",
     "text": [
      "Train on 177592 samples, validate on 19733 samples\n",
      "Epoch 1/7\n",
      "177592/177592 [==============================] - 617s 3ms/step - loss: 0.5356 - acc: 0.7261 - val_loss: 0.4838 - val_acc: 0.7603\n",
      "Epoch 2/7\n",
      "177592/177592 [==============================] - 603s 3ms/step - loss: 0.5065 - acc: 0.7479 - val_loss: 0.4793 - val_acc: 0.7627\n",
      "Epoch 3/7\n",
      "177592/177592 [==============================] - 611s 3ms/step - loss: 0.4954 - acc: 0.7553 - val_loss: 0.4857 - val_acc: 0.7586\n",
      "Epoch 4/7\n",
      "177592/177592 [==============================] - 615s 3ms/step - loss: 0.4864 - acc: 0.7609 - val_loss: 0.4833 - val_acc: 0.7630\n",
      "Epoch 5/7\n",
      "177592/177592 [==============================] - 612s 3ms/step - loss: 0.4794 - acc: 0.7643 - val_loss: 0.4832 - val_acc: 0.7576\n",
      "Epoch 6/7\n",
      "177592/177592 [==============================] - 614s 3ms/step - loss: 0.4724 - acc: 0.7698 - val_loss: 0.4980 - val_acc: 0.7546\n",
      "Epoch 7/7\n",
      "177592/177592 [==============================] - 640s 4ms/step - loss: 0.4664 - acc: 0.7732 - val_loss: 0.5011 - val_acc: 0.7545\n"
     ]
    },
    {
     "data": {
      "text/plain": [
       "<keras.callbacks.History at 0x1cbb865fbe0>"
      ]
     },
     "execution_count": 5,
     "metadata": {},
     "output_type": "execute_result"
    }
   ],
   "source": [
    "model.fit(train_x, train_y,\n",
    "    batch_size=28,\n",
    "    epochs=7,\n",
    "    verbose=1,\n",
    "    validation_split=0.1,shuffle=True)"
   ]
  },
  {
   "cell_type": "code",
   "execution_count": 6,
   "metadata": {},
   "outputs": [
    {
     "name": "stdout",
     "output_type": "stream",
     "text": [
      "saved model!\n"
     ]
    }
   ],
   "source": [
    "model_json = model.to_json()\n",
    "with open('modellstm.json', 'w') as json_file:\n",
    "    json_file.write(model_json)\n",
    "    \n",
    "model.save_weights('modellstm.h5')\n",
    "\n",
    "print('saved model!')"
   ]
  },
  {
   "cell_type": "code",
   "execution_count": null,
   "metadata": {
    "collapsed": true
   },
   "outputs": [],
   "source": []
  }
 ],
 "metadata": {
  "kernelspec": {
   "display_name": "Python 3",
   "language": "python",
   "name": "python3"
  },
  "language_info": {
   "codemirror_mode": {
    "name": "ipython",
    "version": 3
   },
   "file_extension": ".py",
   "mimetype": "text/x-python",
   "name": "python",
   "nbconvert_exporter": "python",
   "pygments_lexer": "ipython3",
   "version": "3.6.1"
  }
 },
 "nbformat": 4,
 "nbformat_minor": 2
}
